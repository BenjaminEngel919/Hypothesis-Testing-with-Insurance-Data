{
 "cells": [
  {
   "cell_type": "markdown",
   "id": "125d6004",
   "metadata": {},
   "source": [
    "We have been asked to use our hypothesis testing skills to answer the following questions:\n",
    "\n",
    "- Q1. Do smokers have higher insurance charges than non-smokers?\n",
    "- Q2. Are men more likely to smoke than women?\n",
    "- Q3. Do different regions have different charges, on average?\n",
    "\n",
    "\n",
    "\n",
    "For each question, make sure to:\n",
    "\n",
    "1. State your Null Hypothesis and Alternative Hypothesis\n",
    "\n",
    "2. Select the correct test according to the data type and number of samples\n",
    "\n",
    "3. Test the assumptions of your selected test.\n",
    "\n",
    "4. Execute the selected test, or the alternative test (if you do not meet the assumptions)\n",
    "\n",
    "5. Interpret your p-value and reject or fail to reject your null hypothesis \n",
    "\n",
    "6. Show a supporting visualization that helps display the result\n"
   ]
  },
  {
   "cell_type": "markdown",
   "id": "14b3c598",
   "metadata": {},
   "source": [
    "**Imports**"
   ]
  },
  {
   "cell_type": "code",
   "execution_count": 1,
   "id": "41b64d1a",
   "metadata": {},
   "outputs": [],
   "source": [
    "import pandas as pd\n",
    "import numpy as np\n",
    "import matplotlib.pyplot as plt\n",
    "import matplotlib as mpl\n",
    "import seaborn as sns\n",
    "from scipy import stats\n",
    "\n",
    "import warnings\n",
    "warnings.filterwarnings('ignore')"
   ]
  },
  {
   "cell_type": "code",
   "execution_count": 2,
   "id": "272553aa",
   "metadata": {},
   "outputs": [
    {
     "data": {
      "text/html": [
       "<div>\n",
       "<style scoped>\n",
       "    .dataframe tbody tr th:only-of-type {\n",
       "        vertical-align: middle;\n",
       "    }\n",
       "\n",
       "    .dataframe tbody tr th {\n",
       "        vertical-align: top;\n",
       "    }\n",
       "\n",
       "    .dataframe thead th {\n",
       "        text-align: right;\n",
       "    }\n",
       "</style>\n",
       "<table border=\"1\" class=\"dataframe\">\n",
       "  <thead>\n",
       "    <tr style=\"text-align: right;\">\n",
       "      <th></th>\n",
       "      <th>age</th>\n",
       "      <th>sex</th>\n",
       "      <th>bmi</th>\n",
       "      <th>children</th>\n",
       "      <th>smoker</th>\n",
       "      <th>region</th>\n",
       "      <th>charges</th>\n",
       "    </tr>\n",
       "  </thead>\n",
       "  <tbody>\n",
       "    <tr>\n",
       "      <th>0</th>\n",
       "      <td>19</td>\n",
       "      <td>female</td>\n",
       "      <td>27.900</td>\n",
       "      <td>0</td>\n",
       "      <td>yes</td>\n",
       "      <td>southwest</td>\n",
       "      <td>16884.92400</td>\n",
       "    </tr>\n",
       "    <tr>\n",
       "      <th>1</th>\n",
       "      <td>18</td>\n",
       "      <td>male</td>\n",
       "      <td>33.770</td>\n",
       "      <td>1</td>\n",
       "      <td>no</td>\n",
       "      <td>southeast</td>\n",
       "      <td>1725.55230</td>\n",
       "    </tr>\n",
       "    <tr>\n",
       "      <th>2</th>\n",
       "      <td>28</td>\n",
       "      <td>male</td>\n",
       "      <td>33.000</td>\n",
       "      <td>3</td>\n",
       "      <td>no</td>\n",
       "      <td>southeast</td>\n",
       "      <td>4449.46200</td>\n",
       "    </tr>\n",
       "    <tr>\n",
       "      <th>3</th>\n",
       "      <td>33</td>\n",
       "      <td>male</td>\n",
       "      <td>22.705</td>\n",
       "      <td>0</td>\n",
       "      <td>no</td>\n",
       "      <td>northwest</td>\n",
       "      <td>21984.47061</td>\n",
       "    </tr>\n",
       "    <tr>\n",
       "      <th>4</th>\n",
       "      <td>32</td>\n",
       "      <td>male</td>\n",
       "      <td>28.880</td>\n",
       "      <td>0</td>\n",
       "      <td>no</td>\n",
       "      <td>northwest</td>\n",
       "      <td>3866.85520</td>\n",
       "    </tr>\n",
       "  </tbody>\n",
       "</table>\n",
       "</div>"
      ],
      "text/plain": [
       "   age     sex     bmi  children smoker     region      charges\n",
       "0   19  female  27.900         0    yes  southwest  16884.92400\n",
       "1   18    male  33.770         1     no  southeast   1725.55230\n",
       "2   28    male  33.000         3     no  southeast   4449.46200\n",
       "3   33    male  22.705         0     no  northwest  21984.47061\n",
       "4   32    male  28.880         0     no  northwest   3866.85520"
      ]
     },
     "execution_count": 2,
     "metadata": {},
     "output_type": "execute_result"
    }
   ],
   "source": [
    "ins = pd.read_csv('Data/insurance - insurance.csv')\n",
    "ins.head()"
   ]
  },
  {
   "cell_type": "markdown",
   "id": "df24722d",
   "metadata": {},
   "source": [
    "**Questions 1. Do smokers have higher insurance charges than non-smokers?**"
   ]
  },
  {
   "cell_type": "markdown",
   "id": "216bba4d",
   "metadata": {},
   "source": [
    "Null Hypothesis: There is no difference in insurance charge between smokers and non-smokers.\n",
    "\n",
    "Alternative Hypothesis: There is difference in insurance charge between smokers and non-smokers."
   ]
  },
  {
   "cell_type": "code",
   "execution_count": 4,
   "id": "dba32161",
   "metadata": {},
   "outputs": [],
   "source": [
    "#Making two dataframe for \"smoker\" and for \"non-smoker\"\n",
    "smoker_df = ins.loc[ins['smoker']=='yes',:].copy()\n",
    "nonsmoker_df = ins.loc[ins['smoker']=='no',:].copy()\n",
    "#Define our feature of interest\n",
    "smoker_charges = smoker_df['charges']\n",
    "nonsmoker_charges = nonsmoker_df['charges']"
   ]
  },
  {
   "cell_type": "markdown",
   "id": "ce01719c",
   "metadata": {},
   "source": [
    "**Size of the two groups.**"
   ]
  },
  {
   "cell_type": "code",
   "execution_count": 5,
   "id": "fab1bf1f",
   "metadata": {},
   "outputs": [
    {
     "name": "stdout",
     "output_type": "stream",
     "text": [
      "Size of smoker 274\n",
      "Size of non_smoker 1064\n"
     ]
    }
   ],
   "source": [
    "print(f'Size of smoker {len(smoker_charges)}')\n",
    "print(f'Size of non_smoker {len(nonsmoker_charges)}')"
   ]
  },
  {
   "cell_type": "markdown",
   "id": "5693e40f",
   "metadata": {},
   "source": [
    "**Testing Assumptions**"
   ]
  },
  {
   "cell_type": "code",
   "execution_count": 6,
   "id": "c8858c2f",
   "metadata": {},
   "outputs": [
    {
     "data": {
      "text/plain": [
       "0"
      ]
     },
     "execution_count": 6,
     "metadata": {},
     "output_type": "execute_result"
    }
   ],
   "source": [
    "#Check for outliers in smoker_df\n",
    "zscores= stats.zscore(smoker_charges)\n",
    "outliers = abs(zscores)>3\n",
    "np.sum(outliers)"
   ]
  },
  {
   "cell_type": "markdown",
   "id": "0c94392f",
   "metadata": {},
   "source": [
    "No outliers in Smoker"
   ]
  },
  {
   "cell_type": "code",
   "execution_count": 7,
   "id": "27807a0f",
   "metadata": {},
   "outputs": [
    {
     "data": {
      "text/plain": [
       "24"
      ]
     },
     "execution_count": 7,
     "metadata": {},
     "output_type": "execute_result"
    }
   ],
   "source": [
    "#Check for outliers in nonsmoker_df\n",
    "zscores= stats.zscore(nonsmoker_charges)\n",
    "outliers = abs(zscores)>3\n",
    "np.sum(outliers)"
   ]
  },
  {
   "cell_type": "code",
   "execution_count": 8,
   "id": "372ed8e1",
   "metadata": {},
   "outputs": [],
   "source": [
    "#Looping out all the outliers\n",
    "while np.sum(outliers) > 0 and len(outliers)> 0:\n",
    "    nonsmoker_charges = nonsmoker_charges[(np.abs(stats.zscore(nonsmoker_charges)) < 3)]\n",
    "    zscores= stats.zscore(nonsmoker_charges)\n",
    "    outliers = abs(zscores)>3\n",
    "    np.sum(outliers)"
   ]
  },
  {
   "cell_type": "code",
   "execution_count": 9,
   "id": "999fb1b0",
   "metadata": {},
   "outputs": [
    {
     "data": {
      "text/plain": [
       "0"
      ]
     },
     "execution_count": 9,
     "metadata": {},
     "output_type": "execute_result"
    }
   ],
   "source": [
    "#Recheck for outliers in nonsmoker_df\n",
    "zscores= stats.zscore(nonsmoker_charges)\n",
    "outliers = abs(zscores)>3\n",
    "np.sum(outliers)"
   ]
  },
  {
   "cell_type": "markdown",
   "id": "e7fbf2ae",
   "metadata": {},
   "source": [
    "**Normality**"
   ]
  },
  {
   "cell_type": "code",
   "execution_count": 10,
   "id": "55e0c295",
   "metadata": {},
   "outputs": [
    {
     "data": {
      "text/plain": [
       "NormaltestResult(statistic=61.03941356533816, pvalue=5.564930630036463e-14)"
      ]
     },
     "execution_count": 10,
     "metadata": {},
     "output_type": "execute_result"
    }
   ],
   "source": [
    "#Test the smoker_charges group for normality\n",
    "result_smoker_charges = stats.normaltest(smoker_charges)\n",
    "result_smoker_charges"
   ]
  },
  {
   "cell_type": "markdown",
   "id": "344097ae",
   "metadata": {},
   "source": [
    "Smoker charges are not normally distributed. The samples sizes is large enough to not need to be normally distributed."
   ]
  },
  {
   "cell_type": "markdown",
   "id": "2a5597b6",
   "metadata": {},
   "source": [
    "**Equal Variance**"
   ]
  },
  {
   "cell_type": "code",
   "execution_count": 11,
   "id": "753d6faf",
   "metadata": {},
   "outputs": [
    {
     "data": {
      "text/plain": [
       "LeveneResult(statistic=791.4740947105306, pvalue=7.254211040409339e-136)"
      ]
     },
     "execution_count": 11,
     "metadata": {},
     "output_type": "execute_result"
    }
   ],
   "source": [
    "#Test for equal variance\n",
    "result = stats.levene(smoker_charges, nonsmoker_charges)\n",
    "result"
   ]
  },
  {
   "cell_type": "markdown",
   "id": "57d76691",
   "metadata": {},
   "source": [
    "Variances is not equal. We'll have to put \"equal_var = False\" when performing our t-test."
   ]
  },
  {
   "cell_type": "markdown",
   "id": "6a012091",
   "metadata": {},
   "source": [
    "**Perform and evaluate the t-test**"
   ]
  },
  {
   "cell_type": "code",
   "execution_count": 12,
   "id": "606af5ae",
   "metadata": {},
   "outputs": [
    {
     "data": {
      "text/plain": [
       "Ttest_indResult(statistic=34.76759075466699, pvalue=5.672680697343108e-106)"
      ]
     },
     "execution_count": 12,
     "metadata": {},
     "output_type": "execute_result"
    }
   ],
   "source": [
    "result = stats.ttest_ind(smoker_charges, nonsmoker_charges, equal_var = False)\n",
    "result"
   ]
  },
  {
   "cell_type": "markdown",
   "id": "46b0a979",
   "metadata": {},
   "source": [
    "Our p-value < alpha (0.05). I reject the null hypothesis and accept that there is a significant difference between smoker and non-smoker insurance charges."
   ]
  },
  {
   "cell_type": "markdown",
   "id": "f7398ed7",
   "metadata": {},
   "source": [
    "**Supporting Visualization**"
   ]
  },
  {
   "cell_type": "code",
   "execution_count": 14,
   "id": "6e0be52b",
   "metadata": {},
   "outputs": [
    {
     "data": {
      "text/plain": [
       "Text(0.5, 1.0, 'Smoker Mean vs. Non-smoker Mean Charges')"
      ]
     },
     "execution_count": 14,
     "metadata": {},
     "output_type": "execute_result"
    },
    {
     "data": {
      "image/png": "[encoded data removed]",
      "text/plain": [
       "<Figure size 640x480 with 1 Axes>"
      ]
     },
     "metadata": {},
     "output_type": "display_data"
    }
   ],
   "source": [
    "ax = sns.barplot(x=['smoker','non-smoker'], y=[smoker_charges.mean(),nonsmoker_charges.mean()])\n",
    "ax.bar_label(ax.containers[0])\n",
    "plt.title('Smoker Mean vs. Non-smoker Mean Charges')"
   ]
  },
  {
   "cell_type": "markdown",
   "id": "52c9f8cd",
   "metadata": {},
   "source": [
    "** Question 2. Are men more likely to smoke than women?**"
   ]
  },
  {
   "cell_type": "markdown",
   "id": "f154517f",
   "metadata": {},
   "source": [
    "Null Hypothesis: There is no difference in the numbers of male smokers vs women smokers.\n",
    "\n",
    "Alternative Hypothesis: There is difference in the numbers of male smokers vs women smokers."
   ]
  },
  {
   "cell_type": "code",
   "execution_count": 15,
   "id": "3c16b073",
   "metadata": {},
   "outputs": [
    {
     "data": {
      "text/html": [
       "<div>\n",
       "<style scoped>\n",
       "    .dataframe tbody tr th:only-of-type {\n",
       "        vertical-align: middle;\n",
       "    }\n",
       "\n",
       "    .dataframe tbody tr th {\n",
       "        vertical-align: top;\n",
       "    }\n",
       "\n",
       "    .dataframe thead th {\n",
       "        text-align: right;\n",
       "    }\n",
       "</style>\n",
       "<table border=\"1\" class=\"dataframe\">\n",
       "  <thead>\n",
       "    <tr style=\"text-align: right;\">\n",
       "      <th>smoker</th>\n",
       "      <th>no</th>\n",
       "      <th>yes</th>\n",
       "    </tr>\n",
       "    <tr>\n",
       "      <th>sex</th>\n",
       "      <th></th>\n",
       "      <th></th>\n",
       "    </tr>\n",
       "  </thead>\n",
       "  <tbody>\n",
       "    <tr>\n",
       "      <th>female</th>\n",
       "      <td>547</td>\n",
       "      <td>115</td>\n",
       "    </tr>\n",
       "    <tr>\n",
       "      <th>male</th>\n",
       "      <td>517</td>\n",
       "      <td>159</td>\n",
       "    </tr>\n",
       "  </tbody>\n",
       "</table>\n",
       "</div>"
      ],
      "text/plain": [
       "smoker   no  yes\n",
       "sex             \n",
       "female  547  115\n",
       "male    517  159"
      ]
     },
     "execution_count": 15,
     "metadata": {},
     "output_type": "execute_result"
    }
   ],
   "source": [
    "#Calculate the contingency table with pd.cross-tab\n",
    "table = pd.crosstab(ins['sex'], ins['smoker'])\n",
    "table"
   ]
  },
  {
   "cell_type": "markdown",
   "id": "c9d8c769",
   "metadata": {},
   "source": [
    "**Chi-Square Test**"
   ]
  },
  {
   "cell_type": "code",
   "execution_count": 16,
   "id": "0dfa008c",
   "metadata": {},
   "outputs": [
    {
     "name": "stdout",
     "output_type": "stream",
     "text": [
      "0.006548143503580696\n"
     ]
    },
    {
     "data": {
      "text/plain": [
       "True"
      ]
     },
     "execution_count": 16,
     "metadata": {},
     "output_type": "execute_result"
    }
   ],
   "source": [
    "#The p_value\n",
    "result = stats.chi2_contingency(table)\n",
    "chi2, p, deg_free, expected_vals = result\n",
    "# test the p-value?\n",
    "print(p)\n",
    "p<.05"
   ]
  },
  {
   "cell_type": "markdown",
   "id": "a35df011",
   "metadata": {},
   "source": [
    "P-value < .05. I reject the null hypothesis and accept the alternate hypothesis that there is difference in the numbers of male smokers vs women smokers."
   ]
  },
  {
   "cell_type": "markdown",
   "id": "61e4c84f",
   "metadata": {},
   "source": [
    "**Supporting Visualization**"
   ]
  },
  {
   "cell_type": "code",
   "execution_count": 17,
   "id": "859e8e37",
   "metadata": {},
   "outputs": [
    {
     "data": {
      "image/png": "[encoded data removed]",
      "text/plain": [
       "<Figure size 640x480 with 1 Axes>"
      ]
     },
     "metadata": {},
     "output_type": "display_data"
    }
   ],
   "source": [
    "ax = sns.countplot(data=ins, x='sex',hue='smoker',)\n",
    "ax.set_title(\"Number of Smokers by Sex\");"
   ]
  },
  {
   "cell_type": "markdown",
   "id": "536a1d52",
   "metadata": {},
   "source": [
    "**Question 3. Do different regions have different charges, on average?**"
   ]
  },
  {
   "cell_type": "markdown",
   "id": "cf958e49",
   "metadata": {},
   "source": [
    "Null Hypothesis: That all regions average charges are the same.\n",
    "\n",
    "Alternative Hypothesis: That there is a difference in regions average charges."
   ]
  },
  {
   "cell_type": "markdown",
   "id": "750bf364",
   "metadata": {},
   "source": [
    "**Separating Groups**"
   ]
  },
  {
   "cell_type": "code",
   "execution_count": 19,
   "id": "2ecd4cbc",
   "metadata": {},
   "outputs": [
    {
     "data": {
      "text/plain": [
       "dict_keys(['southwest', 'southeast', 'northwest', 'northeast'])"
      ]
     },
     "execution_count": 19,
     "metadata": {},
     "output_type": "execute_result"
    }
   ],
   "source": [
    "##Create groups dictionary. There are only 3 groups, but this is even more helpful when there are many groups\n",
    "groups = {}\n",
    "##Loop through all unique categories\n",
    "for i in ins['region'].unique():\n",
    "    ## Get series for group and rename\n",
    "    data = ins.loc[ins['region']==i,'charges'].copy()\n",
    "    \n",
    "    # save into the dictionary\n",
    "    groups[i] = data\n",
    "groups.keys()"
   ]
  },
  {
   "cell_type": "markdown",
   "id": "9f40f205",
   "metadata": {},
   "source": [
    "**Checking Normality**"
   ]
  },
  {
   "cell_type": "code",
   "execution_count": 20,
   "id": "498b679e",
   "metadata": {},
   "outputs": [
    {
     "data": {
      "text/html": [
       "<div>\n",
       "<style scoped>\n",
       "    .dataframe tbody tr th:only-of-type {\n",
       "        vertical-align: middle;\n",
       "    }\n",
       "\n",
       "    .dataframe tbody tr th {\n",
       "        vertical-align: top;\n",
       "    }\n",
       "\n",
       "    .dataframe thead th {\n",
       "        text-align: right;\n",
       "    }\n",
       "</style>\n",
       "<table border=\"1\" class=\"dataframe\">\n",
       "  <thead>\n",
       "    <tr style=\"text-align: right;\">\n",
       "      <th></th>\n",
       "      <th>n</th>\n",
       "      <th>p</th>\n",
       "      <th>test stat</th>\n",
       "    </tr>\n",
       "  </thead>\n",
       "  <tbody>\n",
       "    <tr>\n",
       "      <th>southwest</th>\n",
       "      <td>325.0</td>\n",
       "      <td>6.125298e-23</td>\n",
       "      <td>102.294059</td>\n",
       "    </tr>\n",
       "    <tr>\n",
       "      <th>southeast</th>\n",
       "      <td>364.0</td>\n",
       "      <td>4.953297e-15</td>\n",
       "      <td>65.877446</td>\n",
       "    </tr>\n",
       "    <tr>\n",
       "      <th>northwest</th>\n",
       "      <td>325.0</td>\n",
       "      <td>5.184209e-24</td>\n",
       "      <td>107.232850</td>\n",
       "    </tr>\n",
       "    <tr>\n",
       "      <th>northeast</th>\n",
       "      <td>324.0</td>\n",
       "      <td>1.455431e-19</td>\n",
       "      <td>86.747629</td>\n",
       "    </tr>\n",
       "  </tbody>\n",
       "</table>\n",
       "</div>"
      ],
      "text/plain": [
       "               n             p   test stat\n",
       "southwest  325.0  6.125298e-23  102.294059\n",
       "southeast  364.0  4.953297e-15   65.877446\n",
       "northwest  325.0  5.184209e-24  107.232850\n",
       "northeast  324.0  1.455431e-19   86.747629"
      ]
     },
     "execution_count": 20,
     "metadata": {},
     "output_type": "execute_result"
    }
   ],
   "source": [
    "#Running normal test on each group and confirming there are >20 in each group\n",
    "norm_results = {}\n",
    "for i, data in groups.items():\n",
    "    stat, p = stats.normaltest(data)\n",
    "    ## save the p val, test statistic, and the size of the group\n",
    "    norm_results[i] = {'n': len(data),\n",
    "                             'p':p,\n",
    "                             'test stat':stat,}\n",
    "## convert to a dataframe\n",
    "norm_results_df = pd.DataFrame(norm_results).T\n",
    "norm_results_df"
   ]
  },
  {
   "cell_type": "code",
   "execution_count": 21,
   "id": "da3fa58e",
   "metadata": {},
   "outputs": [
    {
     "data": {
      "text/html": [
       "<div>\n",
       "<style scoped>\n",
       "    .dataframe tbody tr th:only-of-type {\n",
       "        vertical-align: middle;\n",
       "    }\n",
       "\n",
       "    .dataframe tbody tr th {\n",
       "        vertical-align: top;\n",
       "    }\n",
       "\n",
       "    .dataframe thead th {\n",
       "        text-align: right;\n",
       "    }\n",
       "</style>\n",
       "<table border=\"1\" class=\"dataframe\">\n",
       "  <thead>\n",
       "    <tr style=\"text-align: right;\">\n",
       "      <th></th>\n",
       "      <th>n</th>\n",
       "      <th>p</th>\n",
       "      <th>test stat</th>\n",
       "      <th>sig</th>\n",
       "    </tr>\n",
       "  </thead>\n",
       "  <tbody>\n",
       "    <tr>\n",
       "      <th>southwest</th>\n",
       "      <td>325.0</td>\n",
       "      <td>6.125298e-23</td>\n",
       "      <td>102.294059</td>\n",
       "      <td>True</td>\n",
       "    </tr>\n",
       "    <tr>\n",
       "      <th>southeast</th>\n",
       "      <td>364.0</td>\n",
       "      <td>4.953297e-15</td>\n",
       "      <td>65.877446</td>\n",
       "      <td>True</td>\n",
       "    </tr>\n",
       "    <tr>\n",
       "      <th>northwest</th>\n",
       "      <td>325.0</td>\n",
       "      <td>5.184209e-24</td>\n",
       "      <td>107.232850</td>\n",
       "      <td>True</td>\n",
       "    </tr>\n",
       "    <tr>\n",
       "      <th>northeast</th>\n",
       "      <td>324.0</td>\n",
       "      <td>1.455431e-19</td>\n",
       "      <td>86.747629</td>\n",
       "      <td>True</td>\n",
       "    </tr>\n",
       "  </tbody>\n",
       "</table>\n",
       "</div>"
      ],
      "text/plain": [
       "               n             p   test stat   sig\n",
       "southwest  325.0  6.125298e-23  102.294059  True\n",
       "southeast  364.0  4.953297e-15   65.877446  True\n",
       "northwest  325.0  5.184209e-24  107.232850  True\n",
       "northeast  324.0  1.455431e-19   86.747629  True"
      ]
     },
     "execution_count": 21,
     "metadata": {},
     "output_type": "execute_result"
    }
   ],
   "source": [
    "##Checking sig with pandas \n",
    "norm_results_df['sig'] = norm_results_df['p'] < .05 \n",
    "norm_results_df"
   ]
  },
  {
   "cell_type": "markdown",
   "id": "be65bdcf",
   "metadata": {},
   "source": [
    "There is no normality in any of the groups. The sample is large enough that it not needed."
   ]
  },
  {
   "cell_type": "markdown",
   "id": "88a68248",
   "metadata": {},
   "source": [
    "**Equal Variance**"
   ]
  },
  {
   "cell_type": "code",
   "execution_count": 22,
   "id": "0b684fa0",
   "metadata": {},
   "outputs": [
    {
     "data": {
      "text/plain": [
       "LeveneResult(statistic=5.559966758410606, pvalue=0.0008610590250786703)"
      ]
     },
     "execution_count": 22,
     "metadata": {},
     "output_type": "execute_result"
    }
   ],
   "source": [
    "stats.levene(*groups.values())"
   ]
  },
  {
   "cell_type": "markdown",
   "id": "569a6727",
   "metadata": {},
   "source": [
    "No equal variances in the four keys. Going to use a non-parametric equivalent of our test."
   ]
  },
  {
   "cell_type": "markdown",
   "id": "89085a8f",
   "metadata": {},
   "source": [
    "**Kruskal-Wallis**"
   ]
  },
  {
   "cell_type": "code",
   "execution_count": 23,
   "id": "cccb3c87",
   "metadata": {},
   "outputs": [
    {
     "data": {
      "text/plain": [
       "KruskalResult(statistic=4.734181215658743, pvalue=0.19232908072121002)"
      ]
     },
     "execution_count": 23,
     "metadata": {},
     "output_type": "execute_result"
    }
   ],
   "source": [
    "result = stats.kruskal( *groups.values())\n",
    "result"
   ]
  },
  {
   "cell_type": "markdown",
   "id": "f0cf61cc",
   "metadata": {},
   "source": [
    "The p-value > 0.05. I fail to reject the null hypothesis. All regions charges are similar, on average."
   ]
  },
  {
   "cell_type": "markdown",
   "id": "68992bb4",
   "metadata": {},
   "source": [
    "**Supporting Visualization**"
   ]
  },
  {
   "cell_type": "code",
   "execution_count": 25,
   "id": "5d05d2d5",
   "metadata": {},
   "outputs": [
    {
     "data": {
      "image/png": "[encoded data removed]",
      "text/plain": [
       "<Figure size 640x480 with 1 Axes>"
      ]
     },
     "metadata": {},
     "output_type": "display_data"
    }
   ],
   "source": [
    "sns.barplot(data=ins, x='region',y='charges')\n",
    "ax.set_title(\"Charges by Region\");"
   ]
  }
 ],
 "metadata": {
  "kernelspec": {
   "display_name": "Python (dojo-env)",
   "language": "python",
   "name": "dojo-env"
  },
  "language_info": {
   "codemirror_mode": {
    "name": "ipython",
    "version": 3
   },
   "file_extension": ".py",
   "mimetype": "text/x-python",
   "name": "python",
   "nbconvert_exporter": "python",
   "pygments_lexer": "ipython3",
   "version": "3.9.15"
  },
  "toc": {
   "base_numbering": 1,
   "nav_menu": {},
   "number_sections": false,
   "sideBar": true,
   "skip_h1_title": false,
   "title_cell": "Table of Contents",
   "title_sidebar": "Contents",
   "toc_cell": false,
   "toc_position": {},
   "toc_section_display": true,
   "toc_window_display": false
  }
 },
 "nbformat": 4,
 "nbformat_minor": 5
}
